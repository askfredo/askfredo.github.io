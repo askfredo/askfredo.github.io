{
  "nbformat": 4,
  "nbformat_minor": 0,
  "metadata": {
    "colab": {
      "name": "SECURE TESTING",
      "provenance": [],
      "authorship_tag": "ABX9TyNb+/VHcyGOHm18Hzyeb7Ie",
      "include_colab_link": true
    },
    "kernelspec": {
      "name": "python3",
      "display_name": "Python 3"
    },
    "language_info": {
      "name": "python"
    },
    "accelerator": "GPU"
  },
  "cells": [
    {
      "cell_type": "markdown",
      "metadata": {
        "id": "view-in-github",
        "colab_type": "text"
      },
      "source": [
        "<a href=\"https://colab.research.google.com/github/askfredo/askfredo.github.io/blob/master/SECURE_TESTING.ipynb\" target=\"_parent\"><img src=\"https://colab.research.google.com/assets/colab-badge.svg\" alt=\"Open In Colab\"/></a>"
      ]
    },
    {
      "cell_type": "code",
      "execution_count": 1,
      "metadata": {
        "colab": {
          "base_uri": "https://localhost:8080/"
        },
        "id": "C9uowPQtcvbJ",
        "outputId": "bf31f7af-9575-4b1b-b1dd-5292825d2e9a"
      },
      "outputs": [
        {
          "output_type": "stream",
          "name": "stdout",
          "text": [
            "GPU 0: Tesla K80 (UUID: GPU-43eabb24-626e-1742-d698-cad5c686a2fa)\n"
          ]
        }
      ],
      "source": [
        "!nvidia-smi -L"
      ]
    },
    {
      "cell_type": "code",
      "source": [
        "!wget https://download.foldingathome.org/releases/public/release/fahclient/debian-testing-64bit/v7.4/fahclient_7.4.4_amd64.deb"
      ],
      "metadata": {
        "colab": {
          "base_uri": "https://localhost:8080/"
        },
        "id": "0Cm2boFxdS59",
        "outputId": "e5597dea-3cc6-48ac-f7ee-08bc9c37a4a0"
      },
      "execution_count": 2,
      "outputs": [
        {
          "output_type": "stream",
          "name": "stdout",
          "text": [
            "--2022-04-03 17:24:50--  https://download.foldingathome.org/releases/public/release/fahclient/debian-testing-64bit/v7.4/fahclient_7.4.4_amd64.deb\n",
            "Resolving download.foldingathome.org (download.foldingathome.org)... 104.18.18.145, 104.18.19.145, 2606:4700::6812:1391, ...\n",
            "Connecting to download.foldingathome.org (download.foldingathome.org)|104.18.18.145|:443... connected.\n",
            "HTTP request sent, awaiting response... 200 OK\n",
            "Length: 4417966 (4.2M) [application/octet-stream]\n",
            "Saving to: ‘fahclient_7.4.4_amd64.deb’\n",
            "\n",
            "fahclient_7.4.4_amd 100%[===================>]   4.21M  --.-KB/s    in 0.09s   \n",
            "\n",
            "2022-04-03 17:24:50 (47.7 MB/s) - ‘fahclient_7.4.4_amd64.deb’ saved [4417966/4417966]\n",
            "\n"
          ]
        }
      ]
    },
    {
      "cell_type": "code",
      "source": [
        "!sudo dpkg -i --force-depends fahclient_7.4.4_amd64.deb"
      ],
      "metadata": {
        "colab": {
          "base_uri": "https://localhost:8080/"
        },
        "id": "zUzjqBuZdU1I",
        "outputId": "08fa6387-c1d8-4259-8286-49c97ea48ff6"
      },
      "execution_count": 3,
      "outputs": [
        {
          "output_type": "stream",
          "name": "stdout",
          "text": [
            "Selecting previously unselected package fahclient.\n",
            "(Reading database ... 156210 files and directories currently installed.)\n",
            "Preparing to unpack fahclient_7.4.4_amd64.deb ...\n",
            "Adding system user fahclient...done\n",
            "Unpacking fahclient (7.4.4) ...\n",
            "Setting up fahclient (7.4.4) ...\n",
            "debconf: unable to initialize frontend: Dialog\n",
            "debconf: (No usable dialog-like program is installed, so the dialog based frontend cannot be used. at /usr/share/perl5/Debconf/FrontEnd/Dialog.pm line 76.)\n",
            "debconf: falling back to frontend: Readline\n",
            "debconf: unable to initialize frontend: Readline\n",
            "debconf: (This frontend requires a controlling tty.)\n",
            "debconf: falling back to frontend: Teletype\n",
            "Configuring fahclient\n",
            "---------------------\n",
            "\n",
            "Folding@home User Name: 0\n",
            "\n",
            "0 for no team.\n",
            "\n",
            "Folding@home Team Number: \n",
            "\n",
            "Passkey is optional.\n",
            "\n",
            "Folding@home Passkey: 0\n",
            "\n",
            "  light      - Recommended for laptops.\n",
            "  medium     - Higher performance setting recommended for most desktops.\n",
            "  full       - Contribute as much as possible.\n",
            "\n",
            "  1. light  2. medium  3. full\n",
            "How much of your system resources should be used initially? 3\n",
            "\n",
            "Should FAHClient be automatically started? [yes/no] yes\n",
            "\n",
            "invoke-rc.d: could not determine current runlevel\n",
            "invoke-rc.d: policy-rc.d denied execution of start.\n",
            "\n",
            "The Folding@home client is now installed\n",
            "\n",
            "You can access the Web interface by going to:\n",
            "\n",
            "  http://folding.stanford.edu/client/\n",
            "\n",
            "in a browser on this computer.\n",
            "\n",
            "For information about configuring the Folding@home client for \n",
            "remote access please see the comments in:\n",
            "\n",
            "  /etc/fahclient/config.xml\n",
            "\n",
            "\n",
            "Processing triggers for mime-support (3.60ubuntu1) ...\n",
            "Processing triggers for systemd (237-3ubuntu10.53) ...\n"
          ]
        }
      ]
    },
    {
      "cell_type": "code",
      "source": [
        "!FAHClient --user=hzs4flkjeoqx --team=234980 --passkey=167e62272397c20a167e62272397c20a --gpu=true --smp=true"
      ],
      "metadata": {
        "colab": {
          "base_uri": "https://localhost:8080/"
        },
        "id": "aBwR_XEvdghT",
        "outputId": "90ec2fe7-3feb-4f14-c820-d5cfb03629f0"
      },
      "execution_count": 4,
      "outputs": [
        {
          "output_type": "stream",
          "name": "stdout",
          "text": [
            "17:25:46:************************* Folding@home Client *************************\n",
            "17:25:46:    Website: http://folding.stanford.edu/\n",
            "17:25:46:  Copyright: (c) 2009-2014 Stanford University\n",
            "17:25:46:     Author: Joseph Coffland <joseph@cauldrondevelopment.com>\n",
            "17:25:46:       Args: --user=hzs4flkjeoqx --team=234980\n",
            "17:25:46:             --passkey=******************************** --gpu=true --smp=true\n",
            "17:25:46:     Config: <none>\n",
            "17:25:46:******************************** Build ********************************\n",
            "17:25:46:    Version: 7.4.4\n",
            "17:25:46:       Date: Mar 4 2014\n",
            "17:25:46:       Time: 12:02:38\n",
            "17:25:46:    SVN Rev: 4130\n",
            "17:25:46:     Branch: fah/trunk/client\n",
            "17:25:46:   Compiler: GNU 4.4.7\n",
            "17:25:46:    Options: -std=gnu++98 -O3 -funroll-loops -mfpmath=sse -ffast-math\n",
            "17:25:46:             -fno-unsafe-math-optimizations -msse2\n",
            "17:25:46:   Platform: linux2 3.2.0-1-amd64\n",
            "17:25:46:       Bits: 64\n",
            "17:25:46:       Mode: Release\n",
            "17:25:46:******************************* System ********************************\n",
            "17:25:46:        CPU: Intel(R) Xeon(R) CPU @ 2.30GHz\n",
            "17:25:46:     CPU ID: GenuineIntel Family 6 Model 63 Stepping 0\n",
            "17:25:46:       CPUs: 2\n",
            "17:25:46:     Memory: 12.69GiB\n",
            "17:25:46:Free Memory: 10.02GiB\n",
            "17:25:46:    Threads: POSIX_THREADS\n",
            "17:25:46: OS Version: 5.4\n",
            "17:25:46:Has Battery: false\n",
            "17:25:46: On Battery: false\n",
            "17:25:46: UTC Offset: 0\n",
            "17:25:46:        PID: 215\n",
            "17:25:46:        CWD: /content\n",
            "17:25:46:         OS: Linux 5.4.144+ x86_64\n",
            "17:25:46:    OS Arch: AMD64\n",
            "17:25:46:       GPUs: 0\n",
            "17:25:46:       CUDA: 3.7\n",
            "17:25:46:CUDA Driver: 11020\n",
            "17:25:46:***********************************************************************\n",
            "17:25:46:<config>\n",
            "17:25:46:  <!-- Folding Slots -->\n",
            "17:25:46:</config>\n",
            "17:25:46:Connecting to assign-GPU.stanford.edu:80\n",
            "17:25:46:Updated GPUs.txt\n",
            "17:25:46:Read GPUs.txt\n",
            "17:25:46:Trying to access database...\n",
            "17:25:46:Successfully acquired database lock\n",
            "17:25:46:FS00:Set client configured\n",
            "17:25:46:Enabled folding slot 00: READY cpu:1\n",
            "17:25:46:Enabled folding slot 01: READY gpu:0:GK210 [Tesla K80] 4113\n",
            "17:25:46:WU00:FS00:Connecting to 13.59.134.176:8080\n",
            "17:25:46:WU01:FS01:Connecting to 13.59.134.176:8080\n",
            "17:25:47:WU00:FS00:Connecting to 13.59.134.176:8080\n",
            "17:25:47:WU01:FS01:Connecting to 13.59.134.176:80\n",
            "17:25:48:WU00:FS00:Assigned to work server 128.252.203.12\n",
            "17:25:48:WU00:FS00:Requesting new work unit for slot 00: READY cpu:1 from 128.252.203.12\n",
            "17:25:48:WU00:FS00:Connecting to 128.252.203.12:8080\n",
            "17:25:48:WU01:FS01:Assigned to work server 128.252.203.11\n",
            "17:25:48:WU01:FS01:Requesting new work unit for slot 01: READY gpu:0:GK210 [Tesla K80] 4113 from 128.252.203.11\n",
            "17:25:48:WU01:FS01:Connecting to 128.252.203.11:8080\n",
            "17:25:48:WU00:FS00:Downloading 10.11MiB\n",
            "17:25:49:WU00:FS00:Download complete\n",
            "17:25:49:WU00:FS00:Received Unit: id:00 state:DOWNLOAD error:NO_ERROR project:18309 run:0 clone:630 gen:44 core:0xa8 unit:0x000002760000002c0000478500000000\n",
            "17:25:49:WU00:FS00:Downloading core from http://cores.foldingathome.org/lin/64bit-avx-256/a8-0.0.12/Core_a8.fah\n",
            "17:25:49:WU00:FS00:Connecting to cores.foldingathome.org:80\n",
            "17:25:49:WU00:FS00:FahCore a8: Downloading 7.59MiB\n",
            "17:25:50:WU00:FS00:FahCore a8: Download complete\n",
            "17:25:50:WU00:FS00:Valid core signature\n",
            "17:25:50:WU00:FS00:Unpacked 17.10MiB to cores/cores.foldingathome.org/lin/64bit-avx-256/a8-0.0.12/Core_a8.fah/FahCore_a8\n",
            "17:25:50:WU00:FS00:Starting\n",
            "17:25:50:WU00:FS00:Running FahCore: /usr/bin/FAHCoreWrapper /content/cores/cores.foldingathome.org/lin/64bit-avx-256/a8-0.0.12/Core_a8.fah/FahCore_a8 -dir 00 -suffix 01 -version 704 -lifeline 215 -checkpoint 15\n",
            "17:25:50:WU00:FS00:Started FahCore on PID 225\n",
            "17:25:50:WU00:FS00:Core PID:229\n",
            "17:25:50:WU00:FS00:FahCore 0xa8 started\n",
            "17:25:51:WU00:FS00:0xa8:*********************** Log Started 2022-04-03T17:25:50Z ***********************\n",
            "17:25:51:WU00:FS00:0xa8:************************** Gromacs Folding@home Core ***************************\n",
            "17:25:51:WU00:FS00:0xa8:       Core: Gromacs\n",
            "17:25:51:WU00:FS00:0xa8:       Type: 0xa8\n",
            "17:25:51:WU00:FS00:0xa8:    Version: 0.0.12\n",
            "17:25:51:WU00:FS00:0xa8:     Author: Joseph Coffland <joseph@cauldrondevelopment.com>\n",
            "17:25:51:WU00:FS00:0xa8:  Copyright: 2020 foldingathome.org\n",
            "17:25:51:WU00:FS00:0xa8:   Homepage: https://foldingathome.org/\n",
            "17:25:51:WU00:FS00:0xa8:       Date: Jan 16 2021\n",
            "17:25:51:WU00:FS00:0xa8:       Time: 19:23:19\n",
            "17:25:51:WU00:FS00:0xa8:   Compiler: GNU 8.3.0\n",
            "17:25:51:WU00:FS00:0xa8:    Options: -faligned-new -std=c++14 -fsigned-char -ffunction-sections\n",
            "17:25:51:WU00:FS00:0xa8:             -fdata-sections -O3 -funroll-loops -fno-pie\n",
            "17:25:51:WU00:FS00:0xa8:   Platform: linux2 4.15.0-128-generic\n",
            "17:25:51:WU00:FS00:0xa8:       Bits: 64\n",
            "17:25:51:WU00:FS00:0xa8:       Mode: Release\n",
            "17:25:51:WU00:FS00:0xa8:       SIMD: avx_256\n",
            "17:25:51:WU00:FS00:0xa8:     OpenMP: ON\n",
            "17:25:51:WU00:FS00:0xa8:       CUDA: OFF\n",
            "17:25:51:WU00:FS00:0xa8:       Args: -dir 00 -suffix 01 -version 704 -lifeline 225 -checkpoint 15\n",
            "17:25:51:WU00:FS00:0xa8:************************************ libFAH ************************************\n",
            "17:25:51:WU00:FS00:0xa8:       Date: Jan 16 2021\n",
            "17:25:51:WU00:FS00:0xa8:       Time: 19:21:38\n",
            "17:25:51:WU00:FS00:0xa8:   Compiler: GNU 8.3.0\n",
            "17:25:51:WU00:FS00:0xa8:    Options: -faligned-new -std=c++14 -fsigned-char -ffunction-sections\n",
            "17:25:51:WU00:FS00:0xa8:             -fdata-sections -O3 -funroll-loops -fno-pie\n",
            "17:25:51:WU00:FS00:0xa8:   Platform: linux2 4.15.0-128-generic\n",
            "17:25:51:WU00:FS00:0xa8:       Bits: 64\n",
            "17:25:51:WU00:FS00:0xa8:       Mode: Release\n",
            "17:25:51:WU00:FS00:0xa8:************************************ CBang *************************************\n",
            "17:25:51:WU00:FS00:0xa8:       Date: Jan 16 2021\n",
            "17:25:51:WU00:FS00:0xa8:       Time: 19:21:24\n",
            "17:25:51:WU00:FS00:0xa8:   Compiler: GNU 8.3.0\n",
            "17:25:51:WU00:FS00:0xa8:    Options: -faligned-new -std=c++14 -fsigned-char -ffunction-sections\n",
            "17:25:51:WU00:FS00:0xa8:             -fdata-sections -O3 -funroll-loops -fno-pie -fPIC\n",
            "17:25:51:WU00:FS00:0xa8:   Platform: linux2 4.15.0-128-generic\n",
            "17:25:51:WU00:FS00:0xa8:       Bits: 64\n",
            "17:25:51:WU00:FS00:0xa8:       Mode: Release\n",
            "17:25:51:WU00:FS00:0xa8:************************************ System ************************************\n",
            "17:25:51:WU00:FS00:0xa8:        CPU: Intel(R) Xeon(R) CPU @ 2.30GHz\n",
            "17:25:51:WU00:FS00:0xa8:     CPU ID: GenuineIntel Family 6 Model 63 Stepping 0\n",
            "17:25:51:WU00:FS00:0xa8:       CPUs: 2\n",
            "17:25:51:WU00:FS00:0xa8:     Memory: 12.69GiB\n",
            "17:25:51:WU00:FS00:0xa8:Free Memory: 9.91GiB\n",
            "17:25:51:WU00:FS00:0xa8:    Threads: POSIX_THREADS\n",
            "17:25:51:WU00:FS00:0xa8: OS Version: 5.4\n",
            "17:25:51:WU00:FS00:0xa8:Has Battery: false\n",
            "17:25:51:WU00:FS00:0xa8: On Battery: false\n",
            "17:25:51:WU00:FS00:0xa8: UTC Offset: 0\n",
            "17:25:51:WU00:FS00:0xa8:        PID: 229\n",
            "17:25:51:WU00:FS00:0xa8:        CWD: /content/work\n",
            "17:25:51:WU00:FS00:0xa8:********************************************************************************\n",
            "17:25:51:WU00:FS00:0xa8:Project: 18309 (Run 0, Clone 630, Gen 44)\n",
            "17:25:51:WU00:FS00:0xa8:Unit: 0x00000000000000000000000000000000\n",
            "17:25:51:WU00:FS00:0xa8:Reading tar file core.xml\n",
            "17:25:51:WU00:FS00:0xa8:Reading tar file frame44.tpr\n",
            "17:25:51:WU00:FS00:0xa8:Digital signatures verified\n",
            "17:25:51:WU00:FS00:0xa8:Calling: mdrun -c frame44.gro -s frame44.tpr -x frame44.xtc -cpt 15 -nt 1 -ntmpi 1\n",
            "17:25:51:WU00:FS00:0xa8:Steps: first=5500000 total=5625000\n",
            "17:25:53:WU00:FS00:0xa8:Completed 1 out of 125000 steps (0%)\n",
            "17:25:59:WU01:FS01:Downloading 26.52MiB\n",
            "17:26:00:WU01:FS01:Download complete\n",
            "17:26:00:WU01:FS01:Received Unit: id:01 state:DOWNLOAD error:NO_ERROR project:18201 run:47998 clone:1 gen:27 core:0x22 unit:0x000000010000001b000047190000bb7e\n",
            "17:26:00:WU01:FS01:Downloading core from http://cores.foldingathome.org/lin/64bit/22-0.0.20/Core_22.fah\n",
            "17:26:00:WU01:FS01:Connecting to cores.foldingathome.org:80\n",
            "17:26:01:WU01:FS01:FahCore 22: Downloading 166.22MiB\n",
            "17:26:06:Caught signal SIGINT(2) on PID 215\n",
            "17:26:06:Exiting, please wait. . .\n",
            "17:26:06:Caught signal SIGINT(2) on PID 215\n",
            "\u001b[93m17:26:06:WARNING:Next signal will force exit\u001b[0m\n",
            "\u001b[91m17:26:07:ERROR:WU01:FS01:Exception: Transfer failed\u001b[0m\n",
            "17:26:08:FS00:Shutting core down\n",
            "17:26:08:WU00:FS00:0xa8:Caught signal SIGINT(2) on PID 229\n",
            "17:26:08:WU00:FS00:0xa8:Exiting, please wait. . .\n",
            "^C\n"
          ]
        }
      ]
    }
  ]
}